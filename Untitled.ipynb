{
 "cells": [
  {
   "cell_type": "code",
   "execution_count": 1,
   "metadata": {},
   "outputs": [],
   "source": [
    "from nltk.corpus import machado\n",
    "import string\n",
    "\n",
    "MAX_N = 5"
   ]
  },
  {
   "cell_type": "code",
   "execution_count": 2,
   "metadata": {},
   "outputs": [],
   "source": [
    "contos = [ x for x in machado.fileids() if 'contos' in x ]\n",
    "romances = [ x for x in machado.fileids() if 'romance' in x ]\n",
    "cronicas = [ x for x in machado.fileids() if 'cronicas' in x ]\n",
    "textos = contos + romances + cronicas"
   ]
  },
  {
   "cell_type": "code",
   "execution_count": 3,
   "metadata": {},
   "outputs": [],
   "source": [
    "def create_ngram(tokens, dic, ngram):\n",
    "    seq = [ tokens[i:] for i in range(ngram) ]\n",
    "    ngrams = list(zip(*seq))\n",
    "\n",
    "    for g in ngrams:\n",
    "        k = ' '.join(g[:-1])\n",
    "\n",
    "        dic.setdefault(k, {})\n",
    "        dic[k].setdefault(g[-1], 0)\n",
    "        dic[k][g[-1]] += 1"
   ]
  },
  {
   "cell_type": "code",
   "execution_count": 4,
   "metadata": {},
   "outputs": [
    {
     "name": "stdout",
     "output_type": "stream",
     "text": [
      "..................................................................................................................................................."
     ]
    }
   ],
   "source": [
    "ngrams = {}\n",
    "for i in range(2, MAX_N+1):\n",
    "    ngrams[i] = {}\n",
    "    \n",
    "for c in textos:\n",
    "    for para in machado.paras(c):\n",
    "        for s in para:\n",
    "            txt = ' '.join(s).translate(str.maketrans('', '', string.punctuation)).lower()\n",
    "            tokens = txt.split()\n",
    "\n",
    "            for i in range(2, MAX_N+1):\\\n",
    "                create_ngram(tokens, ngrams[i], i)\n",
    "    print('.', end='')\n"
   ]
  },
  {
   "cell_type": "code",
   "execution_count": 6,
   "metadata": {},
   "outputs": [],
   "source": [
    "# def update_ngrams(dic):\n",
    "#     for ng1 in dic.keys():\n",
    "#         total = len(dic[ng1])\n",
    "\n",
    "#         for ng2 in dic[ng1].keys():\n",
    "#             dic[ng1][ng2] /= total"
   ]
  },
  {
   "cell_type": "code",
   "execution_count": 7,
   "metadata": {},
   "outputs": [],
   "source": [
    "# for k in ngrams.keys():\n",
    "#     update_ngrams(ngrams[k])"
   ]
  },
  {
   "cell_type": "code",
   "execution_count": 5,
   "metadata": {},
   "outputs": [],
   "source": [
    "def get_most_likely(word, dic, ex=0):\n",
    "    l = list(dic[word].items())\n",
    "    l.sort(key=(lambda x: x[-1]), reverse=True)\n",
    "    return l[ex:][0]"
   ]
  },
  {
   "cell_type": "code",
   "execution_count": 6,
   "metadata": {},
   "outputs": [],
   "source": [
    "def get_next(tokens, ex=0):\n",
    "    l = []\n",
    "    \n",
    "    for i in range(2, MAX_N+1):\n",
    "        try:\n",
    "            l.append(\n",
    "                get_most_likely(' '.join(tokens[-(i-1):]), ngrams[i], ex)\n",
    "            )\n",
    "        except:\n",
    "            pass\n",
    "    \n",
    "    l.sort(key=(lambda x: x[-1]), reverse=True)\n",
    "#     print(l)\n",
    "    \n",
    "    return(l[0][0])"
   ]
  },
  {
   "cell_type": "code",
   "execution_count": 15,
   "metadata": {},
   "outputs": [
    {
     "name": "stdout",
     "output_type": "stream",
     "text": [
      "noite e a moça que o seu coração de um dia seguinte ao pé de um dia seguinte ao pé de um\n"
     ]
    }
   ],
   "source": [
    "p = [ 'noite' ]\n",
    "for _ in range(21):\n",
    "    n = get_next(p)\n",
    "    if n in p[-3:]:\n",
    "        n = get_next(p, ex=1)\n",
    "    p.append(n)\n",
    "print(' '.join(p))"
   ]
  },
  {
   "cell_type": "code",
   "execution_count": 7,
   "metadata": {},
   "outputs": [
    {
     "name": "stdout",
     "output_type": "stream",
     "text": [
      "noite e a moça que o seu coração de um dia seguinte ao pé de um dia seguinte ao pé de um\n"
     ]
    }
   ],
   "source": [
    "p = [ 'noite' ]\n",
    "for _ in range(21):\n",
    "    n = get_next(p)\n",
    "    if n in p[-3:]:\n",
    "        n = get_next(p, ex=1)\n",
    "    p.append(n)\n",
    "print(' '.join(p))"
   ]
  },
  {
   "cell_type": "code",
   "execution_count": 11,
   "metadata": {},
   "outputs": [],
   "source": [
    "import pickle\n",
    "import gzip\n",
    "\n",
    "pickle.dump(ngrams, open('model.pkl', 'wb'))"
   ]
  },
  {
   "cell_type": "code",
   "execution_count": null,
   "metadata": {},
   "outputs": [],
   "source": []
  }
 ],
 "metadata": {
  "kernelspec": {
   "display_name": "Python 3",
   "language": "python",
   "name": "python3"
  },
  "language_info": {
   "codemirror_mode": {
    "name": "ipython",
    "version": 3
   },
   "file_extension": ".py",
   "mimetype": "text/x-python",
   "name": "python",
   "nbconvert_exporter": "python",
   "pygments_lexer": "ipython3",
   "version": "3.7.3"
  }
 },
 "nbformat": 4,
 "nbformat_minor": 2
}
