{
 "cells": [
  {
   "cell_type": "code",
   "execution_count": 42,
   "metadata": {},
   "outputs": [],
   "source": [
    "from nltk.corpus import machado\n",
    "import string"
   ]
  },
  {
   "cell_type": "code",
   "execution_count": 156,
   "metadata": {},
   "outputs": [
    {
     "data": {
      "text/plain": [
       "['contos/macn001.txt',\n",
       " 'contos/macn002.txt',\n",
       " 'contos/macn003.txt',\n",
       " 'contos/macn004.txt',\n",
       " 'contos/macn005.txt',\n",
       " 'contos/macn006.txt',\n",
       " 'contos/macn007.txt',\n",
       " 'contos/macn008.txt',\n",
       " 'contos/macn009.txt',\n",
       " 'contos/macn010.txt',\n",
       " 'contos/macn011.txt',\n",
       " 'contos/macn012.txt',\n",
       " 'contos/macn013.txt',\n",
       " 'contos/macn014.txt',\n",
       " 'contos/macn015.txt',\n",
       " 'contos/macn016.txt',\n",
       " 'contos/macn017.txt',\n",
       " 'contos/macn018.txt',\n",
       " 'contos/macn019.txt',\n",
       " 'contos/macn020.txt',\n",
       " 'contos/macn021.txt',\n",
       " 'contos/macn022.txt',\n",
       " 'contos/macn023.txt',\n",
       " 'contos/macn024.txt',\n",
       " 'contos/macn025.txt',\n",
       " 'contos/macn026.txt',\n",
       " 'contos/macn027.txt',\n",
       " 'contos/macn028.txt',\n",
       " 'contos/macn029.txt',\n",
       " 'contos/macn030.txt',\n",
       " 'contos/macn031.txt',\n",
       " 'contos/macn032.txt',\n",
       " 'contos/macn033.txt',\n",
       " 'contos/macn034.txt',\n",
       " 'contos/macn035.txt',\n",
       " 'contos/macn036.txt',\n",
       " 'contos/macn037.txt',\n",
       " 'contos/macn038.txt',\n",
       " 'contos/macn039.txt',\n",
       " 'contos/macn040.txt',\n",
       " 'contos/macn041.txt',\n",
       " 'contos/macn042.txt',\n",
       " 'contos/macn043.txt',\n",
       " 'contos/macn044.txt',\n",
       " 'contos/macn045.txt',\n",
       " 'contos/macn046.txt',\n",
       " 'contos/macn047.txt',\n",
       " 'contos/macn048.txt',\n",
       " 'contos/macn049.txt',\n",
       " 'contos/macn050.txt',\n",
       " 'contos/macn051.txt',\n",
       " 'contos/macn052.txt',\n",
       " 'contos/macn053.txt',\n",
       " 'contos/macn054.txt',\n",
       " 'contos/macn055.txt',\n",
       " 'contos/macn056.txt',\n",
       " 'contos/macn057.txt',\n",
       " 'contos/macn058.txt',\n",
       " 'contos/macn059.txt',\n",
       " 'contos/macn060.txt',\n",
       " 'contos/macn061.txt',\n",
       " 'contos/macn062.txt',\n",
       " 'contos/macn063.txt',\n",
       " 'contos/macn064.txt',\n",
       " 'contos/macn065.txt',\n",
       " 'contos/macn066.txt',\n",
       " 'contos/macn067.txt',\n",
       " 'contos/macn068.txt',\n",
       " 'contos/macn069.txt',\n",
       " 'contos/macn070.txt',\n",
       " 'contos/macn071.txt',\n",
       " 'contos/macn072.txt',\n",
       " 'contos/macn073.txt',\n",
       " 'contos/macn074.txt',\n",
       " 'contos/macn075.txt',\n",
       " 'contos/macn076.txt',\n",
       " 'contos/macn077.txt',\n",
       " 'contos/macn078.txt',\n",
       " 'contos/macn079.txt',\n",
       " 'contos/macn080.txt',\n",
       " 'contos/macn081.txt',\n",
       " 'contos/macn082.txt',\n",
       " 'contos/macn083.txt',\n",
       " 'contos/macn084.txt',\n",
       " 'contos/macn085.txt',\n",
       " 'contos/macn086.txt',\n",
       " 'contos/macn087.txt',\n",
       " 'contos/macn088.txt',\n",
       " 'contos/macn089.txt',\n",
       " 'contos/macn090.txt',\n",
       " 'contos/macn091.txt',\n",
       " 'contos/macn092.txt',\n",
       " 'contos/macn093.txt',\n",
       " 'contos/macn094.txt',\n",
       " 'contos/macn095.txt',\n",
       " 'contos/macn096.txt',\n",
       " 'contos/macn097.txt',\n",
       " 'contos/macn098.txt',\n",
       " 'contos/macn099.txt',\n",
       " 'contos/macn100.txt',\n",
       " 'contos/macn101.txt',\n",
       " 'contos/macn102.txt',\n",
       " 'contos/macn103.txt',\n",
       " 'contos/macn104.txt',\n",
       " 'contos/macn105.txt',\n",
       " 'contos/macn106.txt',\n",
       " 'contos/macn107.txt',\n",
       " 'contos/macn108.txt',\n",
       " 'contos/macn109.txt',\n",
       " 'contos/macn110.txt',\n",
       " 'contos/macn111.txt',\n",
       " 'contos/macn112.txt',\n",
       " 'contos/macn113.txt',\n",
       " 'contos/macn114.txt',\n",
       " 'contos/macn115.txt',\n",
       " 'contos/macn116.txt',\n",
       " 'contos/macn117.txt',\n",
       " 'contos/macn118.txt',\n",
       " 'contos/macn119.txt',\n",
       " 'contos/macn120.txt',\n",
       " 'contos/macn121.txt',\n",
       " 'contos/macn122.txt',\n",
       " 'contos/macn123.txt',\n",
       " 'contos/macn124.txt',\n",
       " 'contos/macn125.txt',\n",
       " 'contos/macn126.txt',\n",
       " 'contos/macn127.txt',\n",
       " 'contos/macn128.txt',\n",
       " 'contos/macn129.txt',\n",
       " 'contos/macn130.txt',\n",
       " 'contos/macn131.txt',\n",
       " 'contos/macn132.txt',\n",
       " 'contos/macn133.txt',\n",
       " 'contos/macn134.txt',\n",
       " 'contos/macn135.txt',\n",
       " 'contos/macn136.txt',\n",
       " 'contos/macn137.txt']"
      ]
     },
     "execution_count": 156,
     "metadata": {},
     "output_type": "execute_result"
    }
   ],
   "source": [
    "contos = [ x for x in machado.fileids() if 'contos' in x ]\n",
    "contos"
   ]
  },
  {
   "cell_type": "code",
   "execution_count": 89,
   "metadata": {},
   "outputs": [],
   "source": [
    "NGRAM = 2\n",
    "def update_ngram(tokens, dic):\n",
    "    seq = [ tokens[i:] for i in range(NGRAM) ]\n",
    "    ngrams = list(zip(*seq))\n",
    "\n",
    "    for g in ngrams:\n",
    "        k = ' '.join(g[:-1])\n",
    "\n",
    "        dic.setdefault(k, {})\n",
    "        dic[k].setdefault(g[-1], 0)\n",
    "        dic[k][g[-1]] += 1"
   ]
  },
  {
   "cell_type": "code",
   "execution_count": 166,
   "metadata": {},
   "outputs": [],
   "source": [
    "occors = {}\n",
    "for c in contos:\n",
    "    for para in machado.paras(c):\n",
    "        for s in para:\n",
    "            txt = ' '.join(s).translate(str.maketrans('', '', string.punctuation)).lower()\n",
    "            tokens = txt.split()\n",
    "\n",
    "            update_ngram(tokens, occors)"
   ]
  },
  {
   "cell_type": "code",
   "execution_count": 167,
   "metadata": {},
   "outputs": [],
   "source": [
    "for ng1 in occors.keys():\n",
    "    total = len(occors[ng1])\n",
    "    \n",
    "    for ng2 in occors[ng1].keys():\n",
    "        occors[ng1][ng2] /= total"
   ]
  },
  {
   "cell_type": "code",
   "execution_count": 168,
   "metadata": {},
   "outputs": [],
   "source": [
    "def get_most_likely(word):\n",
    "    l = list(occors[word].items())\n",
    "    l.sort(key=(lambda x: x[-1]), reverse=True)\n",
    "    return l[0][0]"
   ]
  },
  {
   "cell_type": "code",
   "execution_count": 177,
   "metadata": {},
   "outputs": [
    {
     "data": {
      "text/plain": [
       "'poder de um dia seguinte ao pé de um dia seguinte'"
      ]
     },
     "execution_count": 177,
     "metadata": {},
     "output_type": "execute_result"
    }
   ],
   "source": [
    "p = []\n",
    "p.append('poder')\n",
    "for _ in range(10):\n",
    "    p.append(get_most_likely(p[-1]))\n",
    "' '.join(p)"
   ]
  },
  {
   "cell_type": "code",
   "execution_count": 164,
   "metadata": {},
   "outputs": [
    {
     "data": {
      "text/plain": [
       "'poder assistir ao menos que o que o que o que'"
      ]
     },
     "execution_count": 164,
     "metadata": {},
     "output_type": "execute_result"
    }
   ],
   "source": [
    "p = []\n",
    "p.append('poder')\n",
    "for _ in range(10):\n",
    "    p.append(get_most_likely(p[-1]))\n",
    "' '.join(p)"
   ]
  },
  {
   "cell_type": "code",
   "execution_count": null,
   "metadata": {},
   "outputs": [],
   "source": []
  }
 ],
 "metadata": {
  "kernelspec": {
   "display_name": "Python 3",
   "language": "python",
   "name": "python3"
  },
  "language_info": {
   "codemirror_mode": {
    "name": "ipython",
    "version": 3
   },
   "file_extension": ".py",
   "mimetype": "text/x-python",
   "name": "python",
   "nbconvert_exporter": "python",
   "pygments_lexer": "ipython3",
   "version": "3.7.3"
  }
 },
 "nbformat": 4,
 "nbformat_minor": 2
}
